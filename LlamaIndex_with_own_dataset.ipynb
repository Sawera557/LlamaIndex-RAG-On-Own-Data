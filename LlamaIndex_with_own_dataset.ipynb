{
  "nbformat": 4,
  "nbformat_minor": 0,
  "metadata": {
    "colab": {
      "provenance": [],
      "gpuType": "T4",
      "include_colab_link": true
    },
    "kernelspec": {
      "name": "python3",
      "display_name": "Python 3"
    },
    "language_info": {
      "name": "python"
    },
    "accelerator": "GPU"
  },
  "cells": [
    {
      "cell_type": "markdown",
      "metadata": {
        "id": "view-in-github",
        "colab_type": "text"
      },
      "source": [
        "<a href=\"https://colab.research.google.com/github/Sawera557/LlamaIndex-RAG-On-Own-Data/blob/main/LlamaIndex_with_own_dataset.ipynb\" target=\"_parent\"><img src=\"https://colab.research.google.com/assets/colab-badge.svg\" alt=\"Open In Colab\"/></a>"
      ]
    },
    {
      "cell_type": "markdown",
      "source": [
        "#**LlamaIndex**\n",
        "\n",
        "##LlamaIndex provides a complete set of tools for preparing and querying data for LLMs, including RAG.\n",
        "LlamaIndex offers a comprehensive solution for integrating private data seamlessly with public data, facilitating the development of applications utilizing Large Language Models (LLMs).\n"
      ],
      "metadata": {
        "id": "i5PfrwbyJIMI"
      }
    },
    {
      "cell_type": "markdown",
      "source": [
        "At its core, LlamaIndex contains a toolkit designed to easily connect LLM’s with your external data."
      ],
      "metadata": {
        "id": "pGyvVFDofj7J"
      }
    },
    {
      "cell_type": "markdown",
      "source": [
        "\n",
        "\n",
        "\n",
        "\n",
        "1.   Creating and Quering Index\n",
        "2.   Saving and Loading Index\n"
      ],
      "metadata": {
        "id": "2RhwS5nKlBKn"
      }
    },
    {
      "cell_type": "code",
      "execution_count": 1,
      "metadata": {
        "id": "N5jlMQblkT6a",
        "colab": {
          "base_uri": "https://localhost:8080/"
        },
        "outputId": "cff7fe09-4e45-4a65-b4b0-cf080003e009"
      },
      "outputs": [
        {
          "output_type": "stream",
          "name": "stdout",
          "text": [
            "\u001b[2K     \u001b[90m━━━━━━━━━━━━━━━━━━━━━━━━━━━━━━━━━━━━━━━━\u001b[0m \u001b[32m290.4/290.4 kB\u001b[0m \u001b[31m2.4 MB/s\u001b[0m eta \u001b[36m0:00:00\u001b[0m\n",
            "\u001b[2K     \u001b[90m━━━━━━━━━━━━━━━━━━━━━━━━━━━━━━━━━━━━━━━━\u001b[0m \u001b[32m171.5/171.5 kB\u001b[0m \u001b[31m11.4 MB/s\u001b[0m eta \u001b[36m0:00:00\u001b[0m\n",
            "\u001b[2K     \u001b[90m━━━━━━━━━━━━━━━━━━━━━━━━━━━━━━━━━━━━━━━━\u001b[0m \u001b[32m15.4/15.4 MB\u001b[0m \u001b[31m37.7 MB/s\u001b[0m eta \u001b[36m0:00:00\u001b[0m\n",
            "\u001b[2K     \u001b[90m━━━━━━━━━━━━━━━━━━━━━━━━━━━━━━━━━━━━━━━━\u001b[0m \u001b[32m2.0/2.0 MB\u001b[0m \u001b[31m19.8 MB/s\u001b[0m eta \u001b[36m0:00:00\u001b[0m\n",
            "\u001b[2K     \u001b[90m━━━━━━━━━━━━━━━━━━━━━━━━━━━━━━━━━━━━━━━━\u001b[0m \u001b[32m312.9/312.9 kB\u001b[0m \u001b[31m7.3 MB/s\u001b[0m eta \u001b[36m0:00:00\u001b[0m\n",
            "\u001b[2K     \u001b[90m━━━━━━━━━━━━━━━━━━━━━━━━━━━━━━━━━━━━━━━━\u001b[0m \u001b[32m75.6/75.6 kB\u001b[0m \u001b[31m3.0 MB/s\u001b[0m eta \u001b[36m0:00:00\u001b[0m\n",
            "\u001b[2K     \u001b[90m━━━━━━━━━━━━━━━━━━━━━━━━━━━━━━━━━━━━━━━━\u001b[0m \u001b[32m141.9/141.9 kB\u001b[0m \u001b[31m8.7 MB/s\u001b[0m eta \u001b[36m0:00:00\u001b[0m\n",
            "\u001b[2K     \u001b[90m━━━━━━━━━━━━━━━━━━━━━━━━━━━━━━━━━━━━━━━━\u001b[0m \u001b[32m1.8/1.8 MB\u001b[0m \u001b[31m39.8 MB/s\u001b[0m eta \u001b[36m0:00:00\u001b[0m\n",
            "\u001b[2K     \u001b[90m━━━━━━━━━━━━━━━━━━━━━━━━━━━━━━━━━━━━━━━━\u001b[0m \u001b[32m77.9/77.9 kB\u001b[0m \u001b[31m7.5 MB/s\u001b[0m eta \u001b[36m0:00:00\u001b[0m\n",
            "\u001b[2K     \u001b[90m━━━━━━━━━━━━━━━━━━━━━━━━━━━━━━━━━━━━━━━━\u001b[0m \u001b[32m58.3/58.3 kB\u001b[0m \u001b[31m5.9 MB/s\u001b[0m eta \u001b[36m0:00:00\u001b[0m\n",
            "\u001b[2K     \u001b[90m━━━━━━━━━━━━━━━━━━━━━━━━━━━━━━━━━━━━━━━━\u001b[0m \u001b[32m49.3/49.3 kB\u001b[0m \u001b[31m5.0 MB/s\u001b[0m eta \u001b[36m0:00:00\u001b[0m\n",
            "\u001b[?25h"
          ]
        }
      ],
      "source": [
        "!pip install llama-index pypdf sentence_transformers -q"
      ]
    },
    {
      "cell_type": "markdown",
      "source": [
        "By default, we use the OpenAI GPT-3 model.\n",
        "\n",
        "https://docs.llamaindex.ai/en/stable/getting_started/installation/"
      ],
      "metadata": {
        "id": "3FmYnWbMcNea"
      }
    },
    {
      "cell_type": "code",
      "source": [
        "!pip install llama-index-core llama-index-readers-file llama-index-llms-ollama llama-index-embeddings-huggingface"
      ],
      "metadata": {
        "id": "caetOXrmBb_A"
      },
      "execution_count": null,
      "outputs": []
    },
    {
      "cell_type": "markdown",
      "source": [
        "Place your OpenAi Api key here"
      ],
      "metadata": {
        "id": "Dqk-j9MKL9mI"
      }
    },
    {
      "cell_type": "code",
      "source": [
        "import os\n",
        "import openai\n",
        "openai.api_key = \"\"\n",
        "os.environ[\"OPENAI_API_KEY\"] = \"\""
      ],
      "metadata": {
        "id": "sbQojwXrcmHi"
      },
      "execution_count": 2,
      "outputs": []
    },
    {
      "cell_type": "markdown",
      "source": [
        "##Creating Index"
      ],
      "metadata": {
        "id": "KdwDu7QvfUWJ"
      }
    },
    {
      "cell_type": "markdown",
      "source": [
        "https://docs.llamaindex.ai/en/latest/guides/primer/index_guide.html"
      ],
      "metadata": {
        "id": "LitzR-ZaehHo"
      }
    },
    {
      "cell_type": "code",
      "source": [
        "def insert_newline(text, every=15):\n",
        "    words = text.split()\n",
        "    result = ''\n",
        "    for i, word in enumerate(words):\n",
        "        result += word + ' '\n",
        "        if (i + 1) % every == 0:\n",
        "            result += '\\n'\n",
        "    return result\n"
      ],
      "metadata": {
        "id": "93JADdAcDYhn"
      },
      "execution_count": 11,
      "outputs": []
    },
    {
      "cell_type": "markdown",
      "source": [
        "This is how you can store your documents in a folder and giving the path to folder"
      ],
      "metadata": {
        "id": "v4WZhNIaIoAP"
      }
    },
    {
      "cell_type": "markdown",
      "source": [
        "![image.png](data:image/png;base64,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)"
      ],
      "metadata": {
        "id": "H1yB310sDxQv"
      }
    },
    {
      "cell_type": "markdown",
      "source": [
        "For This testing I'm utilizing my Resume"
      ],
      "metadata": {
        "id": "hFJ5YDSCI9oA"
      }
    },
    {
      "cell_type": "code",
      "source": [
        "#from llama_index import VectorStoreIndex, SimpleDirectoryReader\n",
        "from llama_index.core import VectorStoreIndex,SimpleDirectoryReader,ServiceContext,PromptTemplate\n",
        "\n",
        "\n",
        "documents = SimpleDirectoryReader('data').load_data()\n",
        "index = VectorStoreIndex.from_documents(documents)\n",
        "query_engine = index.as_query_engine()"
      ],
      "metadata": {
        "id": "oYXrqWY8kbjX"
      },
      "execution_count": 9,
      "outputs": []
    },
    {
      "cell_type": "markdown",
      "source": [
        "Prompt: What is this text about?"
      ],
      "metadata": {
        "id": "SBB_H3BAJ1B5"
      }
    },
    {
      "cell_type": "code",
      "source": [
        "response = query_engine.query(\"What is this text about?\")\n",
        "#print(response)\n",
        "modified_response = insert_newline(str(response))\n",
        "print(modified_response)"
      ],
      "metadata": {
        "colab": {
          "base_uri": "https://localhost:8080/"
        },
        "id": "l_P-4avBb1mn",
        "outputId": "dfd787a2-7ae1-4ba4-94dc-9483b77f38ce"
      },
      "execution_count": 13,
      "outputs": [
        {
          "output_type": "stream",
          "name": "stdout",
          "text": [
            "The text provides detailed information about the professional experience, skills, projects, and achievements of an \n",
            "AI Engineer named Sawera Khadium. It includes a summary of her work in AI projects \n",
            "such as NLP, Computer Vision, Machine Learning, Data Analytics, Generative AI, and Backend Development, along \n",
            "with her experience in developing various AI-related features and tools. Additionally, it mentions her proficiency \n",
            "in programming languages, frameworks, libraries, databases, web development, low-code tools, cloud tools, and generative AI \n",
            "models. \n"
          ]
        }
      ]
    },
    {
      "cell_type": "markdown",
      "source": [
        "Prompt: Who is this text about?"
      ],
      "metadata": {
        "id": "h3qZuWGCJ5C-"
      }
    },
    {
      "cell_type": "code",
      "source": [
        "response = query_engine.query(\"who is this text about?\")\n",
        "modified_response = insert_newline(str(response))\n",
        "print(modified_response)"
      ],
      "metadata": {
        "colab": {
          "base_uri": "https://localhost:8080/"
        },
        "id": "jlUAUW8kda6-",
        "outputId": "5bd85235-db25-42ba-fb2c-fb261b63d2b0"
      },
      "execution_count": 15,
      "outputs": [
        {
          "output_type": "stream",
          "name": "stdout",
          "text": [
            "The text is about Sawera Khadium, an AI Engineer with around 5 years of experience \n",
            "implementing AI projects in various fields such as NLP, Computer Vision, Machine Learning, Data Analytics, \n",
            "Generative AI, Conversational AI, and Back-end development. \n"
          ]
        }
      ]
    },
    {
      "cell_type": "markdown",
      "source": [
        "Prompt: When Did sawera started her career?"
      ],
      "metadata": {
        "id": "cZV2k-SsJ7Nr"
      }
    },
    {
      "cell_type": "code",
      "source": [
        "response = query_engine.query(\"When Did sawera started her career?\")\n",
        "modified_response = insert_newline(str(response))\n",
        "print(modified_response)"
      ],
      "metadata": {
        "colab": {
          "base_uri": "https://localhost:8080/"
        },
        "id": "A3FU9ahId1mK",
        "outputId": "39a537bd-a84d-45e2-bdb9-2e3026aa8daf"
      },
      "execution_count": 16,
      "outputs": [
        {
          "output_type": "stream",
          "name": "stdout",
          "text": [
            "Sawera started her career in January 2019. \n"
          ]
        }
      ]
    },
    {
      "cell_type": "markdown",
      "source": [
        "Prompt: List few of technical and soft skills sawera have"
      ],
      "metadata": {
        "id": "2uOaVE-6J_Ue"
      }
    },
    {
      "cell_type": "code",
      "source": [
        "response = query_engine.query(\"list few of technical and soft skills sawera have\")\n",
        "print(response)"
      ],
      "metadata": {
        "colab": {
          "base_uri": "https://localhost:8080/"
        },
        "id": "AQI2inwj5I-g",
        "outputId": "fb7a3eba-1c86-4f51-941c-b2aee81734cb"
      },
      "execution_count": 17,
      "outputs": [
        {
          "output_type": "stream",
          "name": "stdout",
          "text": [
            "Technical Skills:\n",
            "- Programming Languages: Python, C++, Typescript, JavaScript\n",
            "- Frameworks: TensorFlow, PyTorch, Keras, Flask, Django, Fastai\n",
            "- Libraries: Pandas, NumPy, Matplotlib, Seaborn, Scikit-Learn, Wand, ImageMagick, OpenCV, Selenium\n",
            "- Databases: SQL, MySQL, SQLite, MongoDB, GraphQL\n",
            "- Web Development: Git, HTML, CSS, JavaScript, jQuery\n",
            "- Low Code Tools: Retool, AirTable, Zapier, Zendesk, PandaDocs, Monday.com, ServiceTitans, PowerBi, Postman\n",
            "- Cloud Tools: Google BigQuery, GCP, GCP Functions, Jupyter, Docker, AWS Sagemaker, S3, Polly, Azure OpenAI\n",
            "\n",
            "Soft Skills:\n",
            "- Passionate about AI engineering\n",
            "- Adaptable to new challenges and technologies\n",
            "- Strong problem-solving skills\n",
            "- Effective communication skills\n",
            "- Ability to work in a team\n",
            "- Detail-oriented and quality-focused\n"
          ]
        }
      ]
    },
    {
      "cell_type": "markdown",
      "source": [
        "Prompt: List links to her portfolio, linkedin and email"
      ],
      "metadata": {
        "id": "tA3tZ7bBKCAc"
      }
    },
    {
      "cell_type": "code",
      "source": [
        "response = query_engine.query(\"List links to her portfolio, linkedin and email\")\n",
        "print(response)"
      ],
      "metadata": {
        "colab": {
          "base_uri": "https://localhost:8080/"
        },
        "id": "hcHIu1px5RFd",
        "outputId": "e3c80645-3c1b-4a20-91fe-923136f27795"
      },
      "execution_count": 18,
      "outputs": [
        {
          "output_type": "stream",
          "name": "stdout",
          "text": [
            "sawerakhadium.com, linkedin.com/in/sawera-khadium, sawerakhadium557@gmail.com\n"
          ]
        }
      ]
    },
    {
      "cell_type": "markdown",
      "source": [
        "Prompt: Does she have experience with speech to text or similar project can you mention where she implemented such project?"
      ],
      "metadata": {
        "id": "3433UjN5KLUp"
      }
    },
    {
      "cell_type": "code",
      "source": [
        "response = query_engine.query(\"Does she have experience with speech to text or similar project can you mention where she implemented such project?\")\n",
        "modified_response = insert_newline(str(response))\n",
        "print(modified_response)"
      ],
      "metadata": {
        "colab": {
          "base_uri": "https://localhost:8080/"
        },
        "id": "6jXnnPDqErvC",
        "outputId": "c9f1820d-aa26-4c6d-bd8e-5989e5615c14"
      },
      "execution_count": 19,
      "outputs": [
        {
          "output_type": "stream",
          "name": "stdout",
          "text": [
            "She has experience with Conversational AI projects, including implementing a chatbot with the OpenAI API. \n",
            "\n"
          ]
        }
      ]
    },
    {
      "cell_type": "markdown",
      "source": [
        "##Saving and Loading Index"
      ],
      "metadata": {
        "id": "SYCicUypfL5f"
      }
    },
    {
      "cell_type": "markdown",
      "source": [
        "Now we'll test from our stored index"
      ],
      "metadata": {
        "id": "oNuyl_u2KQQS"
      }
    },
    {
      "cell_type": "code",
      "source": [
        "index.storage_context.persist(\"sawera_index\")"
      ],
      "metadata": {
        "id": "yDLZsNied6ed"
      },
      "execution_count": 20,
      "outputs": []
    },
    {
      "cell_type": "code",
      "source": [
        "#from llama_index import StorageContext, load_index_from_storage\n",
        "from llama_index.core.storage.storage_context import StorageContext\n",
        "from llama_index.core import load_index_from_storage\n",
        "\n",
        "\n",
        "# rebuild storage context\n",
        "storage_context = StorageContext.from_defaults(persist_dir=\"sawera_index\")\n",
        "# load index\n",
        "new_index = load_index_from_storage(storage_context)"
      ],
      "metadata": {
        "id": "3ZKWedL0eaHE"
      },
      "execution_count": 32,
      "outputs": []
    },
    {
      "cell_type": "markdown",
      "source": [
        "Prompt: Who is this text about?"
      ],
      "metadata": {
        "id": "dKVD-H75Kb0i"
      }
    },
    {
      "cell_type": "code",
      "source": [
        "new_query_engine = new_index.as_query_engine()\n",
        "response = new_query_engine.query(\"who is this text about?\")\n",
        "print(response)"
      ],
      "metadata": {
        "colab": {
          "base_uri": "https://localhost:8080/"
        },
        "id": "-dRCZNgieqCH",
        "outputId": "22043b34-7773-4d27-d9f2-8002b6b61167"
      },
      "execution_count": 33,
      "outputs": [
        {
          "output_type": "stream",
          "name": "stdout",
          "text": [
            "The text is about Sawera Khadium, an AI Engineer with around 5 years of experience in implementing AI projects.\n"
          ]
        }
      ]
    },
    {
      "cell_type": "markdown",
      "source": [
        "Prompt: Name the machine learning models sawera have trained?"
      ],
      "metadata": {
        "id": "B0CEydbqKYfS"
      }
    },
    {
      "cell_type": "code",
      "source": [
        "new_query_engine = new_index.as_query_engine()\n",
        "response = new_query_engine.query(\"Name the machine learning models sawera have trained?\")\n",
        "print(response)"
      ],
      "metadata": {
        "colab": {
          "base_uri": "https://localhost:8080/"
        },
        "id": "fhTW1i7WH0ff",
        "outputId": "b8b3332f-720c-4788-e36c-318f7343e862"
      },
      "execution_count": 41,
      "outputs": [
        {
          "output_type": "stream",
          "name": "stdout",
          "text": [
            "VGG16, VGG19, ELA, CNN, LSTM, and RNN models.\n"
          ]
        }
      ]
    },
    {
      "cell_type": "markdown",
      "source": [
        "Prompt: What's the best thing you liked about sawera?"
      ],
      "metadata": {
        "id": "U3s3UAUvKVw5"
      }
    },
    {
      "cell_type": "code",
      "source": [
        "new_query_engine = new_index.as_query_engine()\n",
        "response = new_query_engine.query(\"What's the best thing you liked about sawera?\")\n",
        "modified_response = insert_newline(str(response))\n",
        "print(modified_response)"
      ],
      "metadata": {
        "colab": {
          "base_uri": "https://localhost:8080/"
        },
        "id": "pdP9zgWMIFlv",
        "outputId": "1abe5da9-6c4f-4855-b4b6-8c99b8f9e30a"
      },
      "execution_count": 45,
      "outputs": [
        {
          "output_type": "stream",
          "name": "stdout",
          "text": [
            "The best thing about Sawera is her ability to implement any idea into reality, regardless \n",
            "of whether she has worked on that technology before or not. She has a passion \n",
            "for AI engineering and has delivered high-end projects in various AI fields, showcasing her adaptability \n",
            "and expertise. \n"
          ]
        }
      ]
    },
    {
      "cell_type": "markdown",
      "source": [
        "\n",
        "\n",
        "---\n",
        "\n"
      ],
      "metadata": {
        "id": "5yDYLx45KgwO"
      }
    }
  ]
}